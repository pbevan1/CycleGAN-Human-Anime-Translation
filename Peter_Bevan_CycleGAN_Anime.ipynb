{
  "nbformat": 4,
  "nbformat_minor": 0,
  "metadata": {
    "colab": {
      "name": "Peter_Bevan_CycleGAN_Anime.ipynb",
      "provenance": [],
      "collapsed_sections": [],
      "authorship_tag": "ABX9TyMgqg6yR0i320KYXaIQopX3",
      "include_colab_link": true
    },
    "kernelspec": {
      "name": "python3",
      "display_name": "Python 3"
    }
  },
  "cells": [
    {
      "cell_type": "markdown",
      "metadata": {
        "id": "view-in-github",
        "colab_type": "text"
      },
      "source": [
        "<a href=\"https://colab.research.google.com/github/pbevan1/CycleGAN-Human-Anime-Translation/blob/main/Peter_Bevan_CycleGAN_Anime.ipynb\" target=\"_parent\"><img src=\"https://colab.research.google.com/assets/colab-badge.svg\" alt=\"Open In Colab\"/></a>"
      ]
    },
    {
      "cell_type": "markdown",
      "metadata": {
        "id": "3pLmRdP2xCt8"
      },
      "source": [
        "**Two sets of images are downloaded from Stephen McGough. 'PubFig' is a set of images of celebrity faces**"
      ]
    },
    {
      "cell_type": "code",
      "metadata": {
        "id": "vbAmc1MrLe2S"
      },
      "source": [
        "from keras.preprocessing.image import img_to_array\r\n",
        "from keras.preprocessing.image import load_img\r\n",
        "import zipfile\r\n",
        "import os\r\n",
        "import numpy as np\r\n",
        "import shutil\r\n",
        "from matplotlib import pyplot as plt"
      ],
      "execution_count": 3,
      "outputs": []
    },
    {
      "cell_type": "code",
      "metadata": {
        "colab": {
          "base_uri": "https://localhost:8080/"
        },
        "id": "B9dWZXUlq7dn",
        "outputId": "407b48e0-8d3f-42d5-a570-31136627b167"
      },
      "source": [
        "#download anime and public figures images from Stephen McGough using curl\r\n",
        "!curl -O http://homepages.cs.ncl.ac.uk/stephen.mcgough/Teaching/anime.zip\r\n",
        "print('anime dataset downloaded to working directory')\r\n",
        "!curl -O http://homepages.cs.ncl.ac.uk/stephen.mcgough/Teaching/PubFig.zip\r\n",
        "print('public figure faces dataset downloaded to working directory')"
      ],
      "execution_count": null,
      "outputs": [
        {
          "output_type": "stream",
          "text": [
            "  % Total    % Received % Xferd  Average Speed   Time    Time     Time  Current\n",
            "                                 Dload  Upload   Total   Spent    Left  Speed\n",
            "100  394M  100  394M    0     0   638k      0  0:10:32  0:10:32 --:--:--  629k\n",
            "anime dataset downloaded to working directory\n",
            "  % Total    % Received % Xferd  Average Speed   Time    Time     Time  Current\n",
            "                                 Dload  Upload   Total   Spent    Left  Speed\n",
            "100  175M  100  175M    0     0   637k      0  0:04:42  0:04:42 --:--:--  626k\n",
            "public figure faces dataset downloaded to working directory\n"
          ],
          "name": "stdout"
        }
      ]
    },
    {
      "cell_type": "markdown",
      "metadata": {
        "id": "Nht9yRNIFbnd"
      },
      "source": [
        "**Unzipping the downloaded files into working directory**"
      ]
    },
    {
      "cell_type": "code",
      "metadata": {
        "colab": {
          "base_uri": "https://localhost:8080/"
        },
        "id": "C3SEx8lFq_sX",
        "outputId": "9d00cc02-3e54-49c5-da3d-812917c02c36"
      },
      "source": [
        "#extracting zipped image files into directory\r\n",
        "## Unzipping PubFig.zip\r\n",
        "with zipfile.ZipFile('/content/PubFig.zip', 'r') as zip_ref:\r\n",
        "    zip_ref.extractall()\r\n",
        "print('Public figure faces dataset extracted to working directory as \"CelebDataProcessed\"\\n')\r\n",
        "\r\n",
        "## Unzipping anime.zip\r\n",
        "with zipfile.ZipFile('anime.zip', 'r') as zip_ref:\r\n",
        "    zip_ref.extractall()\r\n",
        "print('Anime faces dataset extracted to working directory as \"Images\\n\"')"
      ],
      "execution_count": null,
      "outputs": [
        {
          "output_type": "stream",
          "text": [
            "Public figure faces dataset extracted to working directory as \"CelebDataProcessed\"\n",
            "\n",
            "Anime faces dataset extracted to working directory as \"Images\n",
            "\"\n"
          ],
          "name": "stdout"
        }
      ]
    },
    {
      "cell_type": "code",
      "metadata": {
        "id": "yk8IHuM3rDTc"
      },
      "source": [
        "#renaming files in celeb data to be unique\r\n",
        "for root, dirs, files in os.walk('/content/CelebDataProcessed/'):\r\n",
        "    for name in files:\r\n",
        "        newname = str(np.random.choice(range(1,17000))) + name\r\n",
        "        os.rename(os.path.join(root,name), os.path.join(root,newname))\r\n",
        "\r\n",
        "## moving all images out of labelled subdirectory and into the main folder\r\n",
        "folder = r\"CelebDataProcessed/\" #defining folder to search\r\n",
        "subfolders = [f.path for f in os.scandir(folder) if f.is_dir()] #defining subfolders\r\n",
        "#looping through folders to move images\r\n",
        "for sub in subfolders:\r\n",
        "    for f in os.listdir(sub):\r\n",
        "        src = os.path.join(sub, f)\r\n",
        "        dst = os.path.join(folder, f)\r\n",
        "        shutil.move(src, dst)\r\n",
        "\r\n",
        "#deleting empty folders\r\n",
        "path_abs=('CelebDataProcessed/') #defining path for empty folders\r\n",
        "walk = list(os.walk(path_abs))\r\n",
        "for path, _, _ in walk[::-1]:\r\n",
        "    if len(os.listdir(path)) == 0:\r\n",
        "        os.rmdir(path)"
      ],
      "execution_count": null,
      "outputs": []
    },
    {
      "cell_type": "code",
      "metadata": {
        "colab": {
          "base_uri": "https://localhost:8080/"
        },
        "id": "EwBgH_iErON5",
        "outputId": "e61850da-d13e-4057-fed8-bb5de78bb0fa"
      },
      "source": [
        "len(os.listdir('CelebDataProcessed/'))"
      ],
      "execution_count": null,
      "outputs": [
        {
          "output_type": "execute_result",
          "data": {
            "text/plain": [
              "11596"
            ]
          },
          "metadata": {
            "tags": []
          },
          "execution_count": 5
        }
      ]
    },
    {
      "cell_type": "code",
      "metadata": {
        "id": "0M7oxfS3BjDL"
      },
      "source": [
        "#defineing image size\r\n",
        "image_size = (64,64)\r\n",
        "\r\n",
        "def numpy_arrayify(filepath, proposed_name):\r\n",
        "  pic_list = list()\r\n",
        "  for filename in os.listdir(filepath):\r\n",
        "    pic = load_img(filepath + filename, target_size=image_size)\r\n",
        "    pic = img_to_array(pic)\r\n",
        "    pic = pic.astype('float32')\r\n",
        "    pic_list.append(pic)\r\n",
        "  pic_list = np.asarray(pic_list)\r\n",
        "  print('------------------------------------------------------')\r\n",
        "  print(f'shape of array: {pic_list.shape}')\r\n",
        "  print('------------------------------------------------------')\r\n",
        "  np.savez_compressed(proposed_name, pic_list)\r\n",
        "  print(f'{proposed_name} saved to environment')"
      ],
      "execution_count": null,
      "outputs": []
    },
    {
      "cell_type": "code",
      "metadata": {
        "colab": {
          "base_uri": "https://localhost:8080/"
        },
        "id": "ANCFoPHKJeMC",
        "outputId": "2fa58443-8e25-4fd2-f45a-79079d076bc0"
      },
      "source": [
        "numpy_arrayify('/content/images/', 'anime.npz')\r\n",
        "numpy_arrayify('/content/CelebDataProcessed/', 'celeb.npz')\r\n"
      ],
      "execution_count": null,
      "outputs": [
        {
          "output_type": "stream",
          "text": [
            "------------------------------------------------------\n",
            "shape of array: (63565, 64, 64, 3)\n",
            "------------------------------------------------------\n",
            "anime.npz saved to environment\n",
            "------------------------------------------------------\n",
            "shape of array: (11596, 64, 64, 3)\n",
            "------------------------------------------------------\n",
            "celeb.npz saved to environment\n"
          ],
          "name": "stdout"
        }
      ]
    },
    {
      "cell_type": "code",
      "metadata": {
        "id": "6wN--cujCfvG"
      },
      "source": [
        "from google.colab import auth\r\n",
        "from googleapiclient.http import MediaFileUpload\r\n",
        "from googleapiclient.discovery import build\r\n",
        "auth.authenticate_user()"
      ],
      "execution_count": null,
      "outputs": []
    },
    {
      "cell_type": "code",
      "metadata": {
        "id": "GIsMSNM0Coiw"
      },
      "source": [
        "drive_service = build('drive', 'v3')\r\n",
        "\r\n",
        "def save_file_to_drive(name, path):\r\n",
        "   file_metadata = {\r\n",
        "     'name': name,\r\n",
        "     'mimeType': 'application/octet-stream'\r\n",
        "    }\r\n",
        "\r\n",
        "   media = MediaFileUpload(path, mimetype='application/octet-stream', resumable=True)\r\n",
        "\r\n",
        "   created = drive_service.files().create(body=file_metadata,\r\n",
        "                                  media_body=media,\r\n",
        "                                  fields='id').execute()\r\n",
        "\r\n",
        "   print('File ID: {}'.format(created.get('id')))\r\n",
        "\r\n",
        "   return created"
      ],
      "execution_count": null,
      "outputs": []
    },
    {
      "cell_type": "code",
      "metadata": {
        "colab": {
          "base_uri": "https://localhost:8080/"
        },
        "id": "t6-foz2TDL5h",
        "outputId": "9dbb8e67-2960-4c27-df9b-31e4652b2e10"
      },
      "source": [
        "save_file_to_drive('anime.npz', '/content/anime.npz')\r\n",
        "save_file_to_drive('celeb.npz', '/content/celeb.npz')"
      ],
      "execution_count": null,
      "outputs": [
        {
          "output_type": "stream",
          "text": [
            "File ID: 1XNVPmCPaRGOP3TOmZJRNaB2galmHKcYz\n"
          ],
          "name": "stdout"
        },
        {
          "output_type": "execute_result",
          "data": {
            "text/plain": [
              "{'id': '1XNVPmCPaRGOP3TOmZJRNaB2galmHKcYz'}"
            ]
          },
          "metadata": {
            "tags": []
          },
          "execution_count": 8
        }
      ]
    },
    {
      "cell_type": "markdown",
      "metadata": {
        "id": "WU9RfwsB3tHQ"
      },
      "source": [
        "**### If you do not wish to wait for the above code to process the data, please download the preprocessed zipped numpy arrays containing the celebrity faces and anime faces (run code block below to download from my google drive into the environment) ###**"
      ]
    },
    {
      "cell_type": "code",
      "metadata": {
        "id": "O26AboDd3uED",
        "colab": {
          "base_uri": "https://localhost:8080/"
        },
        "outputId": "52e0ec01-9144-4346-e473-2f968fb48340"
      },
      "source": [
        "#!pip install gdown # Execute this if you don't have gdown\r\n",
        "!gdown --id 1XNVPmCPaRGOP3TOmZJRNaB2galmHKcYz\r\n",
        "!gdown --id 1s2JMK51qX8W2ARjKLN_IwVO6AvsCHL6P"
      ],
      "execution_count": 1,
      "outputs": [
        {
          "output_type": "stream",
          "text": [
            "Downloading...\n",
            "From: https://drive.google.com/uc?id=1XNVPmCPaRGOP3TOmZJRNaB2galmHKcYz\n",
            "To: /content/anime.npz\n",
            "995MB [00:12, 79.3MB/s]\n",
            "Downloading...\n",
            "From: https://drive.google.com/uc?id=1s2JMK51qX8W2ARjKLN_IwVO6AvsCHL6P\n",
            "To: /content/celeb.npz\n",
            "181MB [00:02, 60.6MB/s]\n"
          ],
          "name": "stdout"
        }
      ]
    },
    {
      "cell_type": "code",
      "metadata": {
        "colab": {
          "base_uri": "https://localhost:8080/"
        },
        "id": "2eeChIDDS5uJ",
        "outputId": "168d3d87-b8b8-49d7-f382-45ee0199376e"
      },
      "source": [
        "#loading zipped files\r\n",
        "celeb = np.load('celeb.npz')\r\n",
        "anime = np.load('anime.npz')\r\n",
        "#assigning numpy arrays\r\n",
        "celeb = celeb['arr_0']\r\n",
        "anime = anime['arr_0']\r\n",
        "\r\n",
        "print('---------------------------------------')\r\n",
        "print(f'Celeb data is shape: {celeb.shape}')\r\n",
        "print('---------------------------------------')\r\n",
        "print(f'Anime data is shape: {anime.shape}')\r\n",
        "print('---------------------------------------')"
      ],
      "execution_count": 4,
      "outputs": [
        {
          "output_type": "stream",
          "text": [
            "---------------------------------------\n",
            "Celeb data is shape: (11596, 64, 64, 3)\n",
            "---------------------------------------\n",
            "Anime data is shape: (63565, 64, 64, 3)\n",
            "---------------------------------------\n"
          ],
          "name": "stdout"
        }
      ]
    },
    {
      "cell_type": "code",
      "metadata": {
        "colab": {
          "base_uri": "https://localhost:8080/",
          "height": 455
        },
        "id": "losyqflHsZql",
        "outputId": "162c6ba8-a1ef-41cd-8482-c765c5a51489"
      },
      "source": [
        "### plotting sample of three of the source (celeb pics) and target (anime pics)\r\n",
        "### side by side\r\n",
        "fig = plt.figure()\r\n",
        "ax1 = fig.add_subplot(2,2,1)\r\n",
        "ax1.set_title('Source')\r\n",
        "ax1.imshow(celeb[0].astype('uint8'))\r\n",
        "ax2 = fig.add_subplot(2,2,2)\r\n",
        "ax2.set_title('Target')\r\n",
        "ax2.imshow(anime[0].astype('uint8'))\r\n",
        "fig = plt.figure()\r\n",
        "ax3 = fig.add_subplot(2,2,1)\r\n",
        "ax3.set_title('Source')\r\n",
        "ax3.imshow(celeb[1].astype('uint8'))\r\n",
        "ax4 = fig.add_subplot(2,2,2)\r\n",
        "ax4.set_title('Target')\r\n",
        "ax4.imshow(anime[1].astype('uint8'))\r\n",
        "fig = plt.figure()\r\n",
        "ax3 = fig.add_subplot(2,2,1)\r\n",
        "ax3.set_title('Source')\r\n",
        "ax3.imshow(celeb[2].astype('uint8'))\r\n",
        "ax4 = fig.add_subplot(2,2,2)\r\n",
        "ax4.set_title('Target')\r\n",
        "ax4.imshow(anime[2].astype('uint8'));"
      ],
      "execution_count": 5,
      "outputs": [
        {
          "output_type": "display_data",
          "data": {
            "image/png": "[encoded data removed]",
            "text/plain": [
              "<Figure size 432x288 with 2 Axes>"
            ]
          },
          "metadata": {
            "tags": [],
            "needs_background": "light"
          }
        },
        {
          "output_type": "display_data",
          "data": {
            "image/png": "[encoded data removed]",
            "text/plain": [
              "<Figure size 432x288 with 2 Axes>"
            ]
          },
          "metadata": {
            "tags": [],
            "needs_background": "light"
          }
        },
        {
          "output_type": "display_data",
          "data": {
            "image/png": "[encoded data removed]",
            "text/plain": [
              "<Figure size 432x288 with 2 Axes>"
            ]
          },
          "metadata": {
            "tags": [],
            "needs_background": "light"
          }
        }
      ]
    },
    {
      "cell_type": "code",
      "metadata": {
        "id": "nJEDBac41_XN"
      },
      "source": [
        "#scaling image pixel values from range [0,255] to [-1,1]\r\n",
        "celeb = (celeb - 127.5) / 127.5\r\n",
        "anime = (anime - 127.5) / 127.5"
      ],
      "execution_count": 6,
      "outputs": []
    },
    {
      "cell_type": "markdown",
      "metadata": {
        "id": "vplRhODHGz_S"
      },
      "source": [
        "**Implementation below was taken from Keras website:**\r\n",
        "\r\n",
        "https://keras.io/examples/generative/cyclegan/"
      ]
    },
    {
      "cell_type": "markdown",
      "metadata": {
        "id": "-aPqkxRsHU7a"
      },
      "source": [
        "Setup"
      ]
    },
    {
      "cell_type": "code",
      "metadata": {
        "colab": {
          "base_uri": "https://localhost:8080/"
        },
        "id": "uyY1NpOJQuXW",
        "outputId": "c9bcfca3-5700-402e-f66e-e5e4851c6f51"
      },
      "source": [
        "!pip install tensorflow_addons\r\n",
        "import tensorflow as tf\r\n",
        "from tensorflow import keras\r\n",
        "from tensorflow.keras import layers\r\n",
        "\r\n",
        "import tensorflow_addons as tfa\r\n",
        "import tensorflow_datasets as tfds\r\n",
        "\r\n",
        "tfds.disable_progress_bar()\r\n",
        "autotune = tf.data.experimental.AUTOTUNE"
      ],
      "execution_count": 8,
      "outputs": [
        {
          "output_type": "stream",
          "text": [
            "Collecting tensorflow_addons\n",
            "\u001b[?25l  Downloading https://files.pythonhosted.org/packages/2e/af/0ce633c373d2b0476ef8299673d22275fcc3c5ba283b2cec4aa06bc5b810/tensorflow_addons-0.12.1-cp36-cp36m-manylinux2010_x86_64.whl (703kB)\n",
            "\r\u001b[K     |▌                               | 10kB 15.3MB/s eta 0:00:01\r\u001b[K     |█                               | 20kB 20.1MB/s eta 0:00:01\r\u001b[K     |█▍                              | 30kB 11.1MB/s eta 0:00:01\r\u001b[K     |█▉                              | 40kB 8.5MB/s eta 0:00:01\r\u001b[K     |██▎                             | 51kB 4.3MB/s eta 0:00:01\r\u001b[K     |██▉                             | 61kB 4.8MB/s eta 0:00:01\r\u001b[K     |███▎                            | 71kB 4.7MB/s eta 0:00:01\r\u001b[K     |███▊                            | 81kB 5.2MB/s eta 0:00:01\r\u001b[K     |████▏                           | 92kB 5.8MB/s eta 0:00:01\r\u001b[K     |████▋                           | 102kB 5.6MB/s eta 0:00:01\r\u001b[K     |█████▏                          | 112kB 5.6MB/s eta 0:00:01\r\u001b[K     |█████▋                          | 122kB 5.6MB/s eta 0:00:01\r\u001b[K     |██████                          | 133kB 5.6MB/s eta 0:00:01\r\u001b[K     |██████▌                         | 143kB 5.6MB/s eta 0:00:01\r\u001b[K     |███████                         | 153kB 5.6MB/s eta 0:00:01\r\u001b[K     |███████▌                        | 163kB 5.6MB/s eta 0:00:01\r\u001b[K     |████████                        | 174kB 5.6MB/s eta 0:00:01\r\u001b[K     |████████▍                       | 184kB 5.6MB/s eta 0:00:01\r\u001b[K     |████████▉                       | 194kB 5.6MB/s eta 0:00:01\r\u001b[K     |█████████▎                      | 204kB 5.6MB/s eta 0:00:01\r\u001b[K     |█████████▉                      | 215kB 5.6MB/s eta 0:00:01\r\u001b[K     |██████████▎                     | 225kB 5.6MB/s eta 0:00:01\r\u001b[K     |██████████▊                     | 235kB 5.6MB/s eta 0:00:01\r\u001b[K     |███████████▏                    | 245kB 5.6MB/s eta 0:00:01\r\u001b[K     |███████████▋                    | 256kB 5.6MB/s eta 0:00:01\r\u001b[K     |████████████▏                   | 266kB 5.6MB/s eta 0:00:01\r\u001b[K     |████████████▋                   | 276kB 5.6MB/s eta 0:00:01\r\u001b[K     |█████████████                   | 286kB 5.6MB/s eta 0:00:01\r\u001b[K     |█████████████▌                  | 296kB 5.6MB/s eta 0:00:01\r\u001b[K     |██████████████                  | 307kB 5.6MB/s eta 0:00:01\r\u001b[K     |██████████████▍                 | 317kB 5.6MB/s eta 0:00:01\r\u001b[K     |███████████████                 | 327kB 5.6MB/s eta 0:00:01\r\u001b[K     |███████████████▍                | 337kB 5.6MB/s eta 0:00:01\r\u001b[K     |███████████████▉                | 348kB 5.6MB/s eta 0:00:01\r\u001b[K     |████████████████▎               | 358kB 5.6MB/s eta 0:00:01\r\u001b[K     |████████████████▊               | 368kB 5.6MB/s eta 0:00:01\r\u001b[K     |█████████████████▎              | 378kB 5.6MB/s eta 0:00:01\r\u001b[K     |█████████████████▊              | 389kB 5.6MB/s eta 0:00:01\r\u001b[K     |██████████████████▏             | 399kB 5.6MB/s eta 0:00:01\r\u001b[K     |██████████████████▋             | 409kB 5.6MB/s eta 0:00:01\r\u001b[K     |███████████████████             | 419kB 5.6MB/s eta 0:00:01\r\u001b[K     |███████████████████▋            | 430kB 5.6MB/s eta 0:00:01\r\u001b[K     |████████████████████            | 440kB 5.6MB/s eta 0:00:01\r\u001b[K     |████████████████████▌           | 450kB 5.6MB/s eta 0:00:01\r\u001b[K     |█████████████████████           | 460kB 5.6MB/s eta 0:00:01\r\u001b[K     |█████████████████████▍          | 471kB 5.6MB/s eta 0:00:01\r\u001b[K     |██████████████████████          | 481kB 5.6MB/s eta 0:00:01\r\u001b[K     |██████████████████████▍         | 491kB 5.6MB/s eta 0:00:01\r\u001b[K     |██████████████████████▉         | 501kB 5.6MB/s eta 0:00:01\r\u001b[K     |███████████████████████▎        | 512kB 5.6MB/s eta 0:00:01\r\u001b[K     |███████████████████████▊        | 522kB 5.6MB/s eta 0:00:01\r\u001b[K     |████████████████████████▎       | 532kB 5.6MB/s eta 0:00:01\r\u001b[K     |████████████████████████▊       | 542kB 5.6MB/s eta 0:00:01\r\u001b[K     |█████████████████████████▏      | 552kB 5.6MB/s eta 0:00:01\r\u001b[K     |█████████████████████████▋      | 563kB 5.6MB/s eta 0:00:01\r\u001b[K     |██████████████████████████      | 573kB 5.6MB/s eta 0:00:01\r\u001b[K     |██████████████████████████▋     | 583kB 5.6MB/s eta 0:00:01\r\u001b[K     |███████████████████████████     | 593kB 5.6MB/s eta 0:00:01\r\u001b[K     |███████████████████████████▌    | 604kB 5.6MB/s eta 0:00:01\r\u001b[K     |████████████████████████████    | 614kB 5.6MB/s eta 0:00:01\r\u001b[K     |████████████████████████████▍   | 624kB 5.6MB/s eta 0:00:01\r\u001b[K     |████████████████████████████▉   | 634kB 5.6MB/s eta 0:00:01\r\u001b[K     |█████████████████████████████▍  | 645kB 5.6MB/s eta 0:00:01\r\u001b[K     |█████████████████████████████▉  | 655kB 5.6MB/s eta 0:00:01\r\u001b[K     |██████████████████████████████▎ | 665kB 5.6MB/s eta 0:00:01\r\u001b[K     |██████████████████████████████▊ | 675kB 5.6MB/s eta 0:00:01\r\u001b[K     |███████████████████████████████▏| 686kB 5.6MB/s eta 0:00:01\r\u001b[K     |███████████████████████████████▊| 696kB 5.6MB/s eta 0:00:01\r\u001b[K     |████████████████████████████████| 706kB 5.6MB/s \n",
            "\u001b[?25hRequirement already satisfied: typeguard>=2.7 in /usr/local/lib/python3.6/dist-packages (from tensorflow_addons) (2.7.1)\n",
            "Installing collected packages: tensorflow-addons\n",
            "Successfully installed tensorflow-addons-0.12.1\n"
          ],
          "name": "stdout"
        }
      ]
    },
    {
      "cell_type": "code",
      "metadata": {
        "id": "AMH-sPw8RvaO"
      },
      "source": [
        "# Define the standard image size.\r\n",
        "orig_img_size = (64, 64)\r\n",
        "# Size of the random crops to be used during training.\r\n",
        "input_img_size = (60, 60, 3)\r\n",
        "# Weights initializer for the layers.\r\n",
        "kernel_init = keras.initializers.RandomNormal(mean=0.0, stddev=0.02)\r\n",
        "# Gamma initializer for instance normalization.\r\n",
        "gamma_init = keras.initializers.RandomNormal(mean=0.0, stddev=0.02)\r\n",
        "\r\n",
        "buffer_size = 64 ####\r\n",
        "batch_size = 1"
      ],
      "execution_count": 9,
      "outputs": []
    },
    {
      "cell_type": "markdown",
      "metadata": {
        "id": "758kJM3bHPag"
      },
      "source": [
        "Building blocks used in the CycleGAN generators and discriminators"
      ]
    },
    {
      "cell_type": "code",
      "metadata": {
        "id": "4_pmokyQQjp_"
      },
      "source": [
        "class ReflectionPadding2D(layers.Layer):\r\n",
        "    \"\"\"Implements Reflection Padding as a layer.\r\n",
        "\r\n",
        "    Args:\r\n",
        "        padding(tuple): Amount of padding for the\r\n",
        "        spatial dimensions.\r\n",
        "\r\n",
        "    Returns:\r\n",
        "        A padded tensor with the same type as the input tensor.\r\n",
        "    \"\"\"\r\n",
        "\r\n",
        "    def __init__(self, padding=(1, 1), **kwargs):\r\n",
        "        self.padding = tuple(padding)\r\n",
        "        super(ReflectionPadding2D, self).__init__(**kwargs)\r\n",
        "\r\n",
        "    def call(self, input_tensor, mask=None):\r\n",
        "        padding_width, padding_height = self.padding\r\n",
        "        padding_tensor = [\r\n",
        "            [0, 0],\r\n",
        "            [padding_height, padding_height],\r\n",
        "            [padding_width, padding_width],\r\n",
        "            [0, 0],\r\n",
        "        ]\r\n",
        "        return tf.pad(input_tensor, padding_tensor, mode=\"REFLECT\")\r\n",
        "\r\n",
        "\r\n",
        "def residual_block(\r\n",
        "    x,\r\n",
        "    activation,\r\n",
        "    kernel_initializer=kernel_init,\r\n",
        "    kernel_size=(3, 3),\r\n",
        "    strides=(1, 1),\r\n",
        "    padding=\"valid\",\r\n",
        "    gamma_initializer=gamma_init,\r\n",
        "    use_bias=False,\r\n",
        "):\r\n",
        "    dim = x.shape[-1]\r\n",
        "    input_tensor = x\r\n",
        "\r\n",
        "    x = ReflectionPadding2D()(input_tensor)\r\n",
        "    x = layers.Conv2D(\r\n",
        "        dim,\r\n",
        "        kernel_size,\r\n",
        "        strides=strides,\r\n",
        "        kernel_initializer=kernel_initializer,\r\n",
        "        padding=padding,\r\n",
        "        use_bias=use_bias,\r\n",
        "    )(x)\r\n",
        "    x = tfa.layers.InstanceNormalization(gamma_initializer=gamma_initializer)(x)\r\n",
        "    x = activation(x)\r\n",
        "\r\n",
        "    x = ReflectionPadding2D()(x)\r\n",
        "    x = layers.Conv2D(\r\n",
        "        dim,\r\n",
        "        kernel_size,\r\n",
        "        strides=strides,\r\n",
        "        kernel_initializer=kernel_initializer,\r\n",
        "        padding=padding,\r\n",
        "        use_bias=use_bias,\r\n",
        "    )(x)\r\n",
        "    x = tfa.layers.InstanceNormalization(gamma_initializer=gamma_initializer)(x)\r\n",
        "    x = layers.add([input_tensor, x])\r\n",
        "    return x\r\n",
        "\r\n",
        "\r\n",
        "def downsample(\r\n",
        "    x,\r\n",
        "    filters,\r\n",
        "    activation,\r\n",
        "    kernel_initializer=kernel_init,\r\n",
        "    kernel_size=(3, 3),\r\n",
        "    strides=(2, 2),\r\n",
        "    padding=\"same\",\r\n",
        "    gamma_initializer=gamma_init,\r\n",
        "    use_bias=False,\r\n",
        "):\r\n",
        "    x = layers.Conv2D(\r\n",
        "        filters,\r\n",
        "        kernel_size,\r\n",
        "        strides=strides,\r\n",
        "        kernel_initializer=kernel_initializer,\r\n",
        "        padding=padding,\r\n",
        "        use_bias=use_bias,\r\n",
        "    )(x)\r\n",
        "    x = tfa.layers.InstanceNormalization(gamma_initializer=gamma_initializer)(x)\r\n",
        "    if activation:\r\n",
        "        x = activation(x)\r\n",
        "    return x\r\n",
        "\r\n",
        "\r\n",
        "def upsample(\r\n",
        "    x,\r\n",
        "    filters,\r\n",
        "    activation,\r\n",
        "    kernel_size=(3, 3),\r\n",
        "    strides=(2, 2),\r\n",
        "    padding=\"same\",\r\n",
        "    kernel_initializer=kernel_init,\r\n",
        "    gamma_initializer=gamma_init,\r\n",
        "    use_bias=False,\r\n",
        "):\r\n",
        "    x = layers.Conv2DTranspose(\r\n",
        "        filters,\r\n",
        "        kernel_size,\r\n",
        "        strides=strides,\r\n",
        "        padding=padding,\r\n",
        "        kernel_initializer=kernel_initializer,\r\n",
        "        use_bias=use_bias,\r\n",
        "    )(x)\r\n",
        "    x = tfa.layers.InstanceNormalization(gamma_initializer=gamma_initializer)(x)\r\n",
        "    if activation:\r\n",
        "        x = activation(x)\r\n",
        "    return x"
      ],
      "execution_count": 10,
      "outputs": []
    },
    {
      "cell_type": "markdown",
      "metadata": {
        "id": "wRpEz2gfGgs_"
      },
      "source": [
        "**Build the generators**\r\n",
        "\r\n",
        "The generator consists of downsampling blocks: nine residual blocks and upsampling blocks. The structure of the generator is the following:\r\n",
        "\r\n",
        "c7s1-64 ==> Conv block with `relu` activation, filter size of 7\r\n",
        "d128 ====|\r\n",
        "         |-> 2 downsampling blocks\r\n",
        "d256 ====|\r\n",
        "R256 ====|\r\n",
        "R256     |\r\n",
        "R256     |\r\n",
        "R256     |\r\n",
        "R256     |-> 9 residual blocks\r\n",
        "R256     |\r\n",
        "R256     |\r\n",
        "R256     |\r\n",
        "R256 ====|\r\n",
        "u128 ====|\r\n",
        "         |-> 2 upsampling blocks\r\n",
        "u64  ====|\r\n",
        "c7s1-3 => Last conv block with `tanh` activation, filter size of 7"
      ]
    },
    {
      "cell_type": "code",
      "metadata": {
        "id": "1ZdhcujJQjwQ"
      },
      "source": [
        "def get_resnet_generator(\r\n",
        "    filters=64,\r\n",
        "    num_downsampling_blocks=2,\r\n",
        "    num_residual_blocks=9,\r\n",
        "    num_upsample_blocks=2,\r\n",
        "    gamma_initializer=gamma_init,\r\n",
        "    name=None,\r\n",
        "):\r\n",
        "    img_input = layers.Input(shape=input_img_size, name=name + \"_img_input\")\r\n",
        "    x = ReflectionPadding2D(padding=(3, 3))(img_input)\r\n",
        "    x = layers.Conv2D(filters, (7, 7), kernel_initializer=kernel_init, use_bias=False)(\r\n",
        "        x\r\n",
        "    )\r\n",
        "    x = tfa.layers.InstanceNormalization(gamma_initializer=gamma_initializer)(x)\r\n",
        "    x = layers.Activation(\"relu\")(x)\r\n",
        "\r\n",
        "    # Downsampling\r\n",
        "    for _ in range(num_downsampling_blocks):\r\n",
        "        filters *= 2\r\n",
        "        x = downsample(x, filters=filters, activation=layers.Activation(\"relu\"))\r\n",
        "\r\n",
        "    # Residual blocks\r\n",
        "    for _ in range(num_residual_blocks):\r\n",
        "        x = residual_block(x, activation=layers.Activation(\"relu\"))\r\n",
        "\r\n",
        "    # Upsampling\r\n",
        "    for _ in range(num_upsample_blocks):\r\n",
        "        filters //= 2\r\n",
        "        x = upsample(x, filters, activation=layers.Activation(\"relu\"))\r\n",
        "\r\n",
        "    # Final block\r\n",
        "    x = ReflectionPadding2D(padding=(3, 3))(x)\r\n",
        "    x = layers.Conv2D(3, (7, 7), padding=\"valid\")(x)\r\n",
        "    x = layers.Activation(\"tanh\")(x)\r\n",
        "\r\n",
        "    model = keras.models.Model(img_input, x, name=name)\r\n",
        "    return model"
      ],
      "execution_count": 11,
      "outputs": []
    },
    {
      "cell_type": "markdown",
      "metadata": {
        "id": "q1cMEG_DGXbu"
      },
      "source": [
        "**Build the discriminators**\r\n",
        "\r\n",
        "The discriminators implement the following architecture: C64->C128->C256->C512"
      ]
    },
    {
      "cell_type": "code",
      "metadata": {
        "id": "CTRQZjYBQj6G"
      },
      "source": [
        "def get_discriminator(\r\n",
        "    filters=64, kernel_initializer=kernel_init, num_downsampling=3, name=None\r\n",
        "):\r\n",
        "    img_input = layers.Input(shape=input_img_size, name=name + \"_img_input\")\r\n",
        "    x = layers.Conv2D(\r\n",
        "        filters,\r\n",
        "        (4, 4),\r\n",
        "        strides=(2, 2),\r\n",
        "        padding=\"same\",\r\n",
        "        kernel_initializer=kernel_initializer,\r\n",
        "    )(img_input)\r\n",
        "    x = layers.LeakyReLU(0.2)(x)\r\n",
        "\r\n",
        "    num_filters = filters\r\n",
        "    for num_downsample_block in range(3):\r\n",
        "        num_filters *= 2\r\n",
        "        if num_downsample_block < 2:\r\n",
        "            x = downsample(\r\n",
        "                x,\r\n",
        "                filters=num_filters,\r\n",
        "                activation=layers.LeakyReLU(0.2),\r\n",
        "                kernel_size=(4, 4),\r\n",
        "                strides=(2, 2),\r\n",
        "            )\r\n",
        "        else:\r\n",
        "            x = downsample(\r\n",
        "                x,\r\n",
        "                filters=num_filters,\r\n",
        "                activation=layers.LeakyReLU(0.2),\r\n",
        "                kernel_size=(4, 4),\r\n",
        "                strides=(1, 1),\r\n",
        "            )\r\n",
        "\r\n",
        "    x = layers.Conv2D(\r\n",
        "        1, (4, 4), strides=(1, 1), padding=\"same\", kernel_initializer=kernel_initializer\r\n",
        "    )(x)\r\n",
        "\r\n",
        "    model = keras.models.Model(inputs=img_input, outputs=x, name=name)\r\n",
        "    return model\r\n",
        "\r\n",
        "\r\n",
        "# Get the generators\r\n",
        "gen_G = get_resnet_generator(name=\"generator_G\")\r\n",
        "gen_F = get_resnet_generator(name=\"generator_F\")\r\n",
        "\r\n",
        "# Get the discriminators\r\n",
        "disc_X = get_discriminator(name=\"discriminator_X\")\r\n",
        "disc_Y = get_discriminator(name=\"discriminator_Y\")"
      ],
      "execution_count": 12,
      "outputs": []
    },
    {
      "cell_type": "markdown",
      "metadata": {
        "id": "IfV7oQ2cGLOH"
      },
      "source": [
        "**Build the CycleGAN model**\r\n",
        "\r\n",
        "We will override the train_step() method of the Model class for training via fit()."
      ]
    },
    {
      "cell_type": "code",
      "metadata": {
        "id": "Mp9QvVTjS2mb"
      },
      "source": [
        "class CycleGan(keras.Model):\r\n",
        "    def __init__(\r\n",
        "        self,\r\n",
        "        generator_G,\r\n",
        "        generator_F,\r\n",
        "        discriminator_X,\r\n",
        "        discriminator_Y,\r\n",
        "        lambda_cycle=10.0,\r\n",
        "        lambda_identity=0.5,\r\n",
        "    ):\r\n",
        "        super(CycleGan, self).__init__()\r\n",
        "        self.gen_G = generator_G\r\n",
        "        self.gen_F = generator_F\r\n",
        "        self.disc_X = discriminator_X\r\n",
        "        self.disc_Y = discriminator_Y\r\n",
        "        self.lambda_cycle = lambda_cycle\r\n",
        "        self.lambda_identity = lambda_identity\r\n",
        "\r\n",
        "    def compile(\r\n",
        "        self,\r\n",
        "        gen_G_optimizer,\r\n",
        "        gen_F_optimizer,\r\n",
        "        disc_X_optimizer,\r\n",
        "        disc_Y_optimizer,\r\n",
        "        gen_loss_fn,\r\n",
        "        disc_loss_fn,\r\n",
        "    ):\r\n",
        "        super(CycleGan, self).compile()\r\n",
        "        self.gen_G_optimizer = gen_G_optimizer\r\n",
        "        self.gen_F_optimizer = gen_F_optimizer\r\n",
        "        self.disc_X_optimizer = disc_X_optimizer\r\n",
        "        self.disc_Y_optimizer = disc_Y_optimizer\r\n",
        "        self.generator_loss_fn = gen_loss_fn\r\n",
        "        self.discriminator_loss_fn = disc_loss_fn\r\n",
        "        self.cycle_loss_fn = keras.losses.MeanAbsoluteError()\r\n",
        "        self.identity_loss_fn = keras.losses.MeanAbsoluteError()\r\n",
        "\r\n",
        "    def train_step(self, batch_data):\r\n",
        "        # x is Horse and y is zebra\r\n",
        "        real_x, real_y = batch_data\r\n",
        "\r\n",
        "        # For CycleGAN, we need to calculate different\r\n",
        "        # kinds of losses for the generators and discriminators.\r\n",
        "        # We will perform the following steps here:\r\n",
        "        #\r\n",
        "        # 1. Pass real images through the generators and get the generated images\r\n",
        "        # 2. Pass the generated images back to the generators to check if we\r\n",
        "        #    we can predict the original image from the generated image.\r\n",
        "        # 3. Do an identity mapping of the real images using the generators.\r\n",
        "        # 4. Pass the generated images in 1) to the corresponding discriminators.\r\n",
        "        # 5. Calculate the generators total loss (adverserial + cycle + identity)\r\n",
        "        # 6. Calculate the discriminators loss\r\n",
        "        # 7. Update the weights of the generators\r\n",
        "        # 8. Update the weights of the discriminators\r\n",
        "        # 9. Return the losses in a dictionary\r\n",
        "\r\n",
        "        with tf.GradientTape(persistent=True) as tape:\r\n",
        "            # Horse to fake zebra\r\n",
        "            fake_y = self.gen_G(real_x, training=True)\r\n",
        "            # Zebra to fake horse -> y2x\r\n",
        "            fake_x = self.gen_F(real_y, training=True)\r\n",
        "\r\n",
        "            # Cycle (Horse to fake zebra to fake horse): x -> y -> x\r\n",
        "            cycled_x = self.gen_F(fake_y, training=True)\r\n",
        "            # Cycle (Zebra to fake horse to fake zebra) y -> x -> y\r\n",
        "            cycled_y = self.gen_G(fake_x, training=True)\r\n",
        "\r\n",
        "            # Identity mapping\r\n",
        "            same_x = self.gen_F(real_x, training=True)\r\n",
        "            same_y = self.gen_G(real_y, training=True)\r\n",
        "\r\n",
        "            # Discriminator output\r\n",
        "            disc_real_x = self.disc_X(real_x, training=True)\r\n",
        "            disc_fake_x = self.disc_X(fake_x, training=True)\r\n",
        "\r\n",
        "            disc_real_y = self.disc_Y(real_y, training=True)\r\n",
        "            disc_fake_y = self.disc_Y(fake_y, training=True)\r\n",
        "\r\n",
        "            # Generator adverserial loss\r\n",
        "            gen_G_loss = self.generator_loss_fn(disc_fake_y)\r\n",
        "            gen_F_loss = self.generator_loss_fn(disc_fake_x)\r\n",
        "\r\n",
        "            # Generator cycle loss\r\n",
        "            cycle_loss_G = self.cycle_loss_fn(real_y, cycled_y) * self.lambda_cycle\r\n",
        "            cycle_loss_F = self.cycle_loss_fn(real_x, cycled_x) * self.lambda_cycle\r\n",
        "\r\n",
        "            # Generator identity loss\r\n",
        "            id_loss_G = (\r\n",
        "                self.identity_loss_fn(real_y, same_y)\r\n",
        "                * self.lambda_cycle\r\n",
        "                * self.lambda_identity\r\n",
        "            )\r\n",
        "            id_loss_F = (\r\n",
        "                self.identity_loss_fn(real_x, same_x)\r\n",
        "                * self.lambda_cycle\r\n",
        "                * self.lambda_identity\r\n",
        "            )\r\n",
        "\r\n",
        "            # Total generator loss\r\n",
        "            total_loss_G = gen_G_loss + cycle_loss_G + id_loss_G\r\n",
        "            total_loss_F = gen_F_loss + cycle_loss_F + id_loss_F\r\n",
        "\r\n",
        "            # Discriminator loss\r\n",
        "            disc_X_loss = self.discriminator_loss_fn(disc_real_x, disc_fake_x)\r\n",
        "            disc_Y_loss = self.discriminator_loss_fn(disc_real_y, disc_fake_y)\r\n",
        "\r\n",
        "        # Get the gradients for the generators\r\n",
        "        grads_G = tape.gradient(total_loss_G, self.gen_G.trainable_variables)\r\n",
        "        grads_F = tape.gradient(total_loss_F, self.gen_F.trainable_variables)\r\n",
        "\r\n",
        "        # Get the gradients for the discriminators\r\n",
        "        disc_X_grads = tape.gradient(disc_X_loss, self.disc_X.trainable_variables)\r\n",
        "        disc_Y_grads = tape.gradient(disc_Y_loss, self.disc_Y.trainable_variables)\r\n",
        "\r\n",
        "        # Update the weights of the generators\r\n",
        "        self.gen_G_optimizer.apply_gradients(\r\n",
        "            zip(grads_G, self.gen_G.trainable_variables)\r\n",
        "        )\r\n",
        "        self.gen_F_optimizer.apply_gradients(\r\n",
        "            zip(grads_F, self.gen_F.trainable_variables)\r\n",
        "        )\r\n",
        "\r\n",
        "        # Update the weights of the discriminators\r\n",
        "        self.disc_X_optimizer.apply_gradients(\r\n",
        "            zip(disc_X_grads, self.disc_X.trainable_variables)\r\n",
        "        )\r\n",
        "        self.disc_Y_optimizer.apply_gradients(\r\n",
        "            zip(disc_Y_grads, self.disc_Y.trainable_variables)\r\n",
        "        )\r\n",
        "\r\n",
        "        return {\r\n",
        "            \"G_loss\": total_loss_G,\r\n",
        "            \"F_loss\": total_loss_F,\r\n",
        "            \"D_X_loss\": disc_X_loss,\r\n",
        "            \"D_Y_loss\": disc_Y_loss,\r\n",
        "        }"
      ],
      "execution_count": 13,
      "outputs": []
    },
    {
      "cell_type": "markdown",
      "metadata": {
        "id": "RcFtRpUqGD05"
      },
      "source": [
        "**Create a callback that periodically saves generated images**"
      ]
    },
    {
      "cell_type": "code",
      "metadata": {
        "id": "59NN26XgS2od"
      },
      "source": [
        "class GANMonitor(keras.callbacks.Callback):\r\n",
        "    \"\"\"A callback to generate and save images after each epoch\"\"\"\r\n",
        "\r\n",
        "    def __init__(self, num_img=4):\r\n",
        "        self.num_img = num_img\r\n",
        "\r\n",
        "    def on_epoch_end(self, epoch, logs=None):\r\n",
        "        _, ax = plt.subplots(4, 2, figsize=(12, 12))\r\n",
        "        for i, img in enumerate(test_horses.take(self.num_img)):\r\n",
        "            prediction = self.model.gen_G(img)[0].numpy()\r\n",
        "            prediction = (prediction * 127.5 + 127.5).astype(np.uint8)\r\n",
        "            img = (img[0] * 127.5 + 127.5).numpy().astype(np.uint8)\r\n",
        "\r\n",
        "            ax[i, 0].imshow(img)\r\n",
        "            ax[i, 1].imshow(prediction)\r\n",
        "            ax[i, 0].set_title(\"Input image\")\r\n",
        "            ax[i, 1].set_title(\"Translated image\")\r\n",
        "            ax[i, 0].axis(\"off\")\r\n",
        "            ax[i, 1].axis(\"off\")\r\n",
        "\r\n",
        "            prediction = keras.preprocessing.image.array_to_img(prediction)\r\n",
        "            prediction.save(\r\n",
        "                \"generated_img_{i}_{epoch}.png\".format(i=i, epoch=epoch + 1)\r\n",
        "            )\r\n",
        "        plt.show()\r\n",
        "        plt.close()"
      ],
      "execution_count": 14,
      "outputs": []
    },
    {
      "cell_type": "markdown",
      "metadata": {
        "id": "_8xaJYfyH7DE"
      },
      "source": [
        "**Train the end-to-end model**"
      ]
    },
    {
      "cell_type": "code",
      "metadata": {
        "colab": {
          "base_uri": "https://localhost:8080/",
          "height": 374
        },
        "id": "0PFFpzlnGBo4",
        "outputId": "10d75764-8b69-4fa5-9413-91cdcdd0996e"
      },
      "source": [
        "# Loss function for evaluating adversarial loss\r\n",
        "adv_loss_fn = keras.losses.MeanSquaredError()\r\n",
        "\r\n",
        "# Define the loss function for the generators\r\n",
        "def generator_loss_fn(fake):\r\n",
        "    fake_loss = adv_loss_fn(tf.ones_like(fake), fake)\r\n",
        "    return fake_loss\r\n",
        "\r\n",
        "\r\n",
        "# Define the loss function for the discriminators\r\n",
        "def discriminator_loss_fn(real, fake):\r\n",
        "    real_loss = adv_loss_fn(tf.ones_like(real), real)\r\n",
        "    fake_loss = adv_loss_fn(tf.zeros_like(fake), fake)\r\n",
        "    return (real_loss + fake_loss) * 0.5\r\n",
        "\r\n",
        "\r\n",
        "# Create cycle gan model\r\n",
        "cycle_gan_model = CycleGan(\r\n",
        "    generator_G=gen_G, generator_F=gen_F, discriminator_X=disc_X, discriminator_Y=disc_Y\r\n",
        ")\r\n",
        "\r\n",
        "# Compile the model\r\n",
        "cycle_gan_model.compile(\r\n",
        "    gen_G_optimizer=keras.optimizers.Adam(learning_rate=2e-4, beta_1=0.5),\r\n",
        "    gen_F_optimizer=keras.optimizers.Adam(learning_rate=2e-4, beta_1=0.5),\r\n",
        "    disc_X_optimizer=keras.optimizers.Adam(learning_rate=2e-4, beta_1=0.5),\r\n",
        "    disc_Y_optimizer=keras.optimizers.Adam(learning_rate=2e-4, beta_1=0.5),\r\n",
        "    gen_loss_fn=generator_loss_fn,\r\n",
        "    disc_loss_fn=discriminator_loss_fn,\r\n",
        ")\r\n",
        "# Callbacks\r\n",
        "plotter = GANMonitor()\r\n",
        "checkpoint_filepath = \"./model_checkpoints/cyclegan_checkpoints.{epoch:03d}\"\r\n",
        "model_checkpoint_callback = keras.callbacks.ModelCheckpoint(\r\n",
        "    filepath=checkpoint_filepath\r\n",
        ")\r\n",
        "\r\n",
        "# Here we will train the model for just one epoch as each epoch takes around\r\n",
        "# 7 minutes on a single P100 backed machine.\r\n",
        "Da\r\n",
        "cycle_gan_model.fit(\r\n",
        "    tf.data.Dataset.zip((celeb, anime)),\r\n",
        "    epochs=1,\r\n",
        "    callbacks=[plotter, model_checkpoint_callback],\r\n",
        ")"
      ],
      "execution_count": 17,
      "outputs": [
        {
          "output_type": "error",
          "ename": "TypeError",
          "evalue": "ignored",
          "traceback": [
            "\u001b[0;31m---------------------------------------------------------------------------\u001b[0m",
            "\u001b[0;31mTypeError\u001b[0m                                 Traceback (most recent call last)",
            "\u001b[0;32m<ipython-input-17-5eeba75d610c>\u001b[0m in \u001b[0;36m<module>\u001b[0;34m()\u001b[0m\n\u001b[1;32m     39\u001b[0m \u001b[0;31m# 7 minutes on a single P100 backed machine.\u001b[0m\u001b[0;34m\u001b[0m\u001b[0;34m\u001b[0m\u001b[0;34m\u001b[0m\u001b[0m\n\u001b[1;32m     40\u001b[0m cycle_gan_model.fit(\n\u001b[0;32m---> 41\u001b[0;31m     \u001b[0mtf\u001b[0m\u001b[0;34m.\u001b[0m\u001b[0mdata\u001b[0m\u001b[0;34m.\u001b[0m\u001b[0mDataset\u001b[0m\u001b[0;34m.\u001b[0m\u001b[0mzip\u001b[0m\u001b[0;34m(\u001b[0m\u001b[0;34m(\u001b[0m\u001b[0mceleb\u001b[0m\u001b[0;34m,\u001b[0m \u001b[0manime\u001b[0m\u001b[0;34m)\u001b[0m\u001b[0;34m)\u001b[0m\u001b[0;34m,\u001b[0m\u001b[0;34m\u001b[0m\u001b[0;34m\u001b[0m\u001b[0m\n\u001b[0m\u001b[1;32m     42\u001b[0m     \u001b[0mepochs\u001b[0m\u001b[0;34m=\u001b[0m\u001b[0;36m1\u001b[0m\u001b[0;34m,\u001b[0m\u001b[0;34m\u001b[0m\u001b[0;34m\u001b[0m\u001b[0m\n\u001b[1;32m     43\u001b[0m     \u001b[0mcallbacks\u001b[0m\u001b[0;34m=\u001b[0m\u001b[0;34m[\u001b[0m\u001b[0mplotter\u001b[0m\u001b[0;34m,\u001b[0m \u001b[0mmodel_checkpoint_callback\u001b[0m\u001b[0;34m]\u001b[0m\u001b[0;34m,\u001b[0m\u001b[0;34m\u001b[0m\u001b[0;34m\u001b[0m\u001b[0m\n",
            "\u001b[0;32m/usr/local/lib/python3.6/dist-packages/tensorflow/python/data/ops/dataset_ops.py\u001b[0m in \u001b[0;36mzip\u001b[0;34m(datasets)\u001b[0m\n\u001b[1;32m   1108\u001b[0m       \u001b[0mDataset\u001b[0m\u001b[0;34m:\u001b[0m \u001b[0mA\u001b[0m\u001b[0;31m \u001b[0m\u001b[0;31m`\u001b[0m\u001b[0mDataset\u001b[0m\u001b[0;31m`\u001b[0m\u001b[0;34m.\u001b[0m\u001b[0;34m\u001b[0m\u001b[0;34m\u001b[0m\u001b[0m\n\u001b[1;32m   1109\u001b[0m     \"\"\"\n\u001b[0;32m-> 1110\u001b[0;31m     \u001b[0;32mreturn\u001b[0m \u001b[0mZipDataset\u001b[0m\u001b[0;34m(\u001b[0m\u001b[0mdatasets\u001b[0m\u001b[0;34m)\u001b[0m\u001b[0;34m\u001b[0m\u001b[0;34m\u001b[0m\u001b[0m\n\u001b[0m\u001b[1;32m   1111\u001b[0m \u001b[0;34m\u001b[0m\u001b[0m\n\u001b[1;32m   1112\u001b[0m   \u001b[0;32mdef\u001b[0m \u001b[0mconcatenate\u001b[0m\u001b[0;34m(\u001b[0m\u001b[0mself\u001b[0m\u001b[0;34m,\u001b[0m \u001b[0mdataset\u001b[0m\u001b[0;34m)\u001b[0m\u001b[0;34m:\u001b[0m\u001b[0;34m\u001b[0m\u001b[0;34m\u001b[0m\u001b[0m\n",
            "\u001b[0;32m/usr/local/lib/python3.6/dist-packages/tensorflow/python/data/ops/dataset_ops.py\u001b[0m in \u001b[0;36m__init__\u001b[0;34m(self, datasets)\u001b[0m\n\u001b[1;32m   3641\u001b[0m           message = (\"The argument to `Dataset.zip()` must be a nested \"\n\u001b[1;32m   3642\u001b[0m                      \"structure of `Dataset` objects.\")\n\u001b[0;32m-> 3643\u001b[0;31m         \u001b[0;32mraise\u001b[0m \u001b[0mTypeError\u001b[0m\u001b[0;34m(\u001b[0m\u001b[0mmessage\u001b[0m\u001b[0;34m)\u001b[0m\u001b[0;34m\u001b[0m\u001b[0;34m\u001b[0m\u001b[0m\n\u001b[0m\u001b[1;32m   3644\u001b[0m     \u001b[0mself\u001b[0m\u001b[0;34m.\u001b[0m\u001b[0m_datasets\u001b[0m \u001b[0;34m=\u001b[0m \u001b[0mdatasets\u001b[0m\u001b[0;34m\u001b[0m\u001b[0;34m\u001b[0m\u001b[0m\n\u001b[1;32m   3645\u001b[0m     self._structure = nest.pack_sequence_as(\n",
            "\u001b[0;31mTypeError\u001b[0m: The argument to `Dataset.zip()` must be a nested structure of `Dataset` objects."
          ]
        }
      ]
    },
    {
      "cell_type": "code",
      "metadata": {
        "id": "NLSCXfSDS2ri"
      },
      "source": [
        ""
      ],
      "execution_count": null,
      "outputs": []
    },
    {
      "cell_type": "code",
      "metadata": {
        "id": "0W98fFyoQkB5"
      },
      "source": [
        ""
      ],
      "execution_count": null,
      "outputs": []
    },
    {
      "cell_type": "code",
      "metadata": {
        "id": "TpRKH5I6fcx-"
      },
      "source": [
        "\t# load and resize the image\r\n",
        "\tpixels = load_img(filename, target_size=size)\r\n",
        "\t# convert to numpy array\r\n",
        "\tpixels = img_to_array(pixels)\r\n",
        "\t# transform in a sample\r\n",
        "\tpixels = expand_dims(pixels, 0)\r\n",
        "\t# scale from [0,255] to [-1,1]\r\n",
        "\tpixels = (pixels - 127.5) / 127.5\r\n",
        "\treturn pixels"
      ],
      "execution_count": null,
      "outputs": []
    }
  ]
}